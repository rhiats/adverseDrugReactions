{
  "nbformat": 4,
  "nbformat_minor": 0,
  "metadata": {
    "colab": {
      "provenance": [],
      "mount_file_id": "1SyBQaS29VkF4f4s6SVoiIBzoFAM3WIR8",
      "authorship_tag": "ABX9TyONmbCH+c34p0A7jJj38quy"
    },
    "kernelspec": {
      "name": "python3",
      "display_name": "Python 3"
    },
    "language_info": {
      "name": "python"
    }
  },
  "cells": [
    {
      "cell_type": "markdown",
      "source": [
        "# **Exploratory Data Analysis (EDA) of PHEE Data**\n",
        "\n",
        "Four aims during the EDA of the PHEE Data.\n",
        "\n",
        "1. Description and relationship of medical/data terms. Quantify data quality\n",
        "2. Demographic Distribution of the patients\n",
        "3. Distribution of text data tokens, parts of speech, prevalent terms"
      ],
      "metadata": {
        "id": "1NM8O8su_RKS"
      }
    },
    {
      "cell_type": "code",
      "source": [
        "import pickle"
      ],
      "metadata": {
        "id": "dKetaF00AZgx"
      },
      "execution_count": 1,
      "outputs": []
    },
    {
      "cell_type": "code",
      "source": [
        "file_name_lst=['/content/drive/MyDrive/PHEE/output/train_txt.pickle',\n",
        "'/content/drive/MyDrive/PHEE/output/dev_txt.pickle',\n",
        "'/content/drive/MyDrive/PHEE/output/test_txt.pickle',\n",
        "'/content/drive/MyDrive/PHEE/output/train_ann.pickle',\n",
        "'/content/drive/MyDrive/PHEE/output/dev_ann.pickle',\n",
        "'/content/drive/MyDrive/PHEE/output/test_ann.pickle']\n",
        "\n",
        "for f in file_name_lst:\n",
        "  with open(f, 'rb') as handle:\n",
        "      d = pickle.load(handle)\n",
        "      print(len(d))"
      ],
      "metadata": {
        "colab": {
          "base_uri": "https://localhost:8080/"
        },
        "id": "tKEJhzNAAWIj",
        "outputId": "4c273bc1-5106-47b7-8861-92721a3b08fe"
      },
      "execution_count": 2,
      "outputs": [
        {
          "output_type": "stream",
          "name": "stdout",
          "text": [
            "2\n",
            "2\n",
            "2\n",
            "18\n",
            "18\n",
            "18\n"
          ]
        }
      ]
    }
  ]
}
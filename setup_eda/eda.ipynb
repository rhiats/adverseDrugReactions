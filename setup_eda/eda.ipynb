{
  "nbformat": 4,
  "nbformat_minor": 0,
  "metadata": {
    "colab": {
      "provenance": [],
      "mount_file_id": "1SyBQaS29VkF4f4s6SVoiIBzoFAM3WIR8",
      "authorship_tag": "ABX9TyMSqdrZsUj0a+3wD358vNvz"
    },
    "kernelspec": {
      "name": "python3",
      "display_name": "Python 3"
    },
    "language_info": {
      "name": "python"
    },
    "accelerator": "GPU",
    "gpuClass": "standard"
  },
  "cells": [
    {
      "cell_type": "markdown",
      "source": [
        "# **Exploratory Data Analysis (EDA) of PHEE Data**\n",
        "\n",
        "Four aims during the EDA of the PHEE Data.\n",
        "\n",
        "1. Description of data attributes\n",
        "3. Distribution of Text Length\n",
        "4. Word Cloud of Text to understand most prevalent topics in the raw text\n",
        "5. Standardize the terms in the columns to provide statistics on the patient populations experiencing potentially detrimental effects. Non-standardized terms will be used to extract events. \n",
        "  - Distribution of drugs\n",
        "  - Distribution of patient demographics\n",
        "  - Median time elapsed until a side-effect appeared in a \n",
        "  patient\n",
        "  - Median duration a patient is on a medication\n",
        "  - The route with the most severe side-effects in elderly patients is ...\n",
        "  - The top 4 therapy areas (Treat-Disorder) in the dataset ..."
      ],
      "metadata": {
        "id": "1NM8O8su_RKS"
      }
    },
    {
      "cell_type": "code",
      "source": [
        "import pickle\n",
        "import pandas as pd\n",
        "import numpy as np\n",
        "import matplotlib.pyplot as plt\n",
        "import seaborn as sns\n",
        "from wordcloud import WordCloud, STOPWORDS\n",
        "!pip install pharmpy\n",
        "from pharmpy.epc import EPCEngine\n",
        "import math"
      ],
      "metadata": {
        "id": "dKetaF00AZgx",
        "colab": {
          "base_uri": "https://localhost:8080/"
        },
        "outputId": "b026e23b-2e5e-424f-e0d6-da13657f2945"
      },
      "execution_count": 22,
      "outputs": [
        {
          "output_type": "stream",
          "name": "stdout",
          "text": [
            "Looking in indexes: https://pypi.org/simple, https://us-python.pkg.dev/colab-wheels/public/simple/\n",
            "Requirement already satisfied: pharmpy in /usr/local/lib/python3.8/dist-packages (0.0.2)\n"
          ]
        }
      ]
    },
    {
      "cell_type": "markdown",
      "source": [
        "# **Load Data**"
      ],
      "metadata": {
        "id": "8s3yEQftBZ5X"
      }
    },
    {
      "cell_type": "code",
      "source": [
        "def pkl_load_dict(filename):\n",
        "  \"\"\"\n",
        "    Load the dictionary data from a pickle file into a variable\n",
        "\n",
        "    @P:\n",
        "    filename (str): Name of the pkl file\n",
        "    varname : Name of the df to save the pkl data\n",
        "\n",
        "    @R:\n",
        "    varname : Containing the pkl data\n",
        "  \"\"\"\n",
        "\n",
        "  with open(filename, 'rb') as handle:\n",
        "      df = pickle.load(handle)\n",
        "\n",
        "  return df\n",
        "\n",
        "df=pkl_load_dict('/content/drive/MyDrive/PHEE/output/data_df.pkl')"
      ],
      "metadata": {
        "id": "tKEJhzNAAWIj"
      },
      "execution_count": 2,
      "outputs": []
    },
    {
      "cell_type": "markdown",
      "source": [
        "# **Description and Relationship of Select Medical/Data Terms**\n",
        "\n",
        "**Subject** Patients involved in the medical event\n",
        "\n",
        "Majority of the subjects are unknown (48%). The column should be preprocessed to group similar terms, like 'patient' and 'patients,' which may result in more meaningful data.\n",
        "\n",
        "**Drug** A prescribed medication that causes a physiological effect \n",
        "\n",
        "The distribution of drugs in the dataset are uniform, with a slight majority of records with the drug 'methotrexate.' Unsure whether there is a mix of brand and generic drugs in the column.\n",
        "\n",
        "**Adverse_event** Abbreviated as ADE. Denotes potentially harmful effects of medical therapies.\n",
        "\n",
        "The most adverse event is 'induced.' Further grouping may be needed for the events.\n",
        "\n",
        "**Effect** Indicates the outcome of the treatment.\n",
        "\n",
        "There may be lots of overlap in terms, which may need to be normalized.\n",
        "\n",
        "**Race** Indicates the subject’s race/nationality\n",
        "\n",
        "Supporting the statistic that majority of the subject's are unknown, the majority of the race demographics are also unknown (92%). Standardization may be necessary.\n",
        "\n",
        "**Age** Indicates the subject’s age\n",
        "\n",
        "Supporting the statistic that majority of the subject's are unknown, the majority of the age demographics are also unknown (92%). Standardization of the ages is necessary. For example, '2-year-old child' and 'two' should be considered the same.\n",
        "\n",
        "**Gender** Indicates the subject’s gender\n",
        "\n",
        "Supporting the statistic that majority of the subject's are unknown, the majority of the age demographics are also unknown (82%). Standardization of the gender is necessary. For example, 'woman' and 'girl' should be considered the same.\n",
        "\n",
        "**Text** Sentences extracted from biomedical literature, MEDLINE case reports, annotated with information\n",
        "relevant to pharmacovigilance.\n",
        "\n",
        "\n",
        "> **Ex** Diarrhoea, T-CD4+ lymphopenia and bilateral patchy pulmonary infiltrates developed in a male 60 yrs of age, who was treated with oxaliplatinum and 5-fluorouracil for unresectable rectum carcinoma.\n",
        "\n"
      ],
      "metadata": {
        "id": "x3AX614gBdfe"
      }
    },
    {
      "cell_type": "code",
      "source": [
        "def relative_freq(df,col):\n",
        "  \"\"\"\n",
        "    Relective frequency of a column in a df\n",
        "\n",
        "    @P:\n",
        "      df (dataframe): Dataframe of data\n",
        "      col (str): Name of the column of interest\n",
        "    \n",
        "  \"\"\"\n",
        "  return round(df[col].value_counts(normalize=True)*100,0).to_frame()"
      ],
      "metadata": {
        "id": "rbase4acMW60"
      },
      "execution_count": 3,
      "outputs": []
    },
    {
      "cell_type": "code",
      "source": [
        "print(\"An example sentence extracted from a MEDLINE case report: \\n {} \\n\".format(df['Text'].iloc[5]))\n",
        "relative_freq(df,'Treat-Disorder')"
      ],
      "metadata": {
        "id": "5SOG5pziBhXX",
        "colab": {
          "base_uri": "https://localhost:8080/",
          "height": 513
        },
        "outputId": "febfe6cb-4ead-458e-8fa3-3c74a9aa1e63"
      },
      "execution_count": 4,
      "outputs": [
        {
          "output_type": "stream",
          "name": "stdout",
          "text": [
            "An example sentence extracted from a MEDLINE case report: \n",
            " Occasionally, despite good therapeutic response, clozapine must be stopped due to dangerous side effects such as agranulocytosis.\n",
            " \n",
            "\n"
          ]
        },
        {
          "output_type": "execute_result",
          "data": {
            "text/plain": [
              "                                     Treat-Disorder\n",
              "                                               63.0\n",
              "High                                            4.0\n",
              "rheumatoid arthritis                            1.0\n",
              "chronic hepatitis C                             0.0\n",
              "Crohn's disease                                 0.0\n",
              "...                                             ...\n",
              "gastroesophageal reflux disease                 0.0\n",
              "necrotizing vasculitis                          0.0\n",
              "increasing pain in the joints||High             0.0\n",
              "pre-excited atrial fibrillation                 0.0\n",
              "bicytopenia                                     0.0\n",
              "\n",
              "[1149 rows x 1 columns]"
            ],
            "text/html": [
              "\n",
              "  <div id=\"df-db13edbf-d110-40d0-9ea4-fb53d277424f\">\n",
              "    <div class=\"colab-df-container\">\n",
              "      <div>\n",
              "<style scoped>\n",
              "    .dataframe tbody tr th:only-of-type {\n",
              "        vertical-align: middle;\n",
              "    }\n",
              "\n",
              "    .dataframe tbody tr th {\n",
              "        vertical-align: top;\n",
              "    }\n",
              "\n",
              "    .dataframe thead th {\n",
              "        text-align: right;\n",
              "    }\n",
              "</style>\n",
              "<table border=\"1\" class=\"dataframe\">\n",
              "  <thead>\n",
              "    <tr style=\"text-align: right;\">\n",
              "      <th></th>\n",
              "      <th>Treat-Disorder</th>\n",
              "    </tr>\n",
              "  </thead>\n",
              "  <tbody>\n",
              "    <tr>\n",
              "      <th></th>\n",
              "      <td>63.0</td>\n",
              "    </tr>\n",
              "    <tr>\n",
              "      <th>High</th>\n",
              "      <td>4.0</td>\n",
              "    </tr>\n",
              "    <tr>\n",
              "      <th>rheumatoid arthritis</th>\n",
              "      <td>1.0</td>\n",
              "    </tr>\n",
              "    <tr>\n",
              "      <th>chronic hepatitis C</th>\n",
              "      <td>0.0</td>\n",
              "    </tr>\n",
              "    <tr>\n",
              "      <th>Crohn's disease</th>\n",
              "      <td>0.0</td>\n",
              "    </tr>\n",
              "    <tr>\n",
              "      <th>...</th>\n",
              "      <td>...</td>\n",
              "    </tr>\n",
              "    <tr>\n",
              "      <th>gastroesophageal reflux disease</th>\n",
              "      <td>0.0</td>\n",
              "    </tr>\n",
              "    <tr>\n",
              "      <th>necrotizing vasculitis</th>\n",
              "      <td>0.0</td>\n",
              "    </tr>\n",
              "    <tr>\n",
              "      <th>increasing pain in the joints||High</th>\n",
              "      <td>0.0</td>\n",
              "    </tr>\n",
              "    <tr>\n",
              "      <th>pre-excited atrial fibrillation</th>\n",
              "      <td>0.0</td>\n",
              "    </tr>\n",
              "    <tr>\n",
              "      <th>bicytopenia</th>\n",
              "      <td>0.0</td>\n",
              "    </tr>\n",
              "  </tbody>\n",
              "</table>\n",
              "<p>1149 rows × 1 columns</p>\n",
              "</div>\n",
              "      <button class=\"colab-df-convert\" onclick=\"convertToInteractive('df-db13edbf-d110-40d0-9ea4-fb53d277424f')\"\n",
              "              title=\"Convert this dataframe to an interactive table.\"\n",
              "              style=\"display:none;\">\n",
              "        \n",
              "  <svg xmlns=\"http://www.w3.org/2000/svg\" height=\"24px\"viewBox=\"0 0 24 24\"\n",
              "       width=\"24px\">\n",
              "    <path d=\"M0 0h24v24H0V0z\" fill=\"none\"/>\n",
              "    <path d=\"M18.56 5.44l.94 2.06.94-2.06 2.06-.94-2.06-.94-.94-2.06-.94 2.06-2.06.94zm-11 1L8.5 8.5l.94-2.06 2.06-.94-2.06-.94L8.5 2.5l-.94 2.06-2.06.94zm10 10l.94 2.06.94-2.06 2.06-.94-2.06-.94-.94-2.06-.94 2.06-2.06.94z\"/><path d=\"M17.41 7.96l-1.37-1.37c-.4-.4-.92-.59-1.43-.59-.52 0-1.04.2-1.43.59L10.3 9.45l-7.72 7.72c-.78.78-.78 2.05 0 2.83L4 21.41c.39.39.9.59 1.41.59.51 0 1.02-.2 1.41-.59l7.78-7.78 2.81-2.81c.8-.78.8-2.07 0-2.86zM5.41 20L4 18.59l7.72-7.72 1.47 1.35L5.41 20z\"/>\n",
              "  </svg>\n",
              "      </button>\n",
              "      \n",
              "  <style>\n",
              "    .colab-df-container {\n",
              "      display:flex;\n",
              "      flex-wrap:wrap;\n",
              "      gap: 12px;\n",
              "    }\n",
              "\n",
              "    .colab-df-convert {\n",
              "      background-color: #E8F0FE;\n",
              "      border: none;\n",
              "      border-radius: 50%;\n",
              "      cursor: pointer;\n",
              "      display: none;\n",
              "      fill: #1967D2;\n",
              "      height: 32px;\n",
              "      padding: 0 0 0 0;\n",
              "      width: 32px;\n",
              "    }\n",
              "\n",
              "    .colab-df-convert:hover {\n",
              "      background-color: #E2EBFA;\n",
              "      box-shadow: 0px 1px 2px rgba(60, 64, 67, 0.3), 0px 1px 3px 1px rgba(60, 64, 67, 0.15);\n",
              "      fill: #174EA6;\n",
              "    }\n",
              "\n",
              "    [theme=dark] .colab-df-convert {\n",
              "      background-color: #3B4455;\n",
              "      fill: #D2E3FC;\n",
              "    }\n",
              "\n",
              "    [theme=dark] .colab-df-convert:hover {\n",
              "      background-color: #434B5C;\n",
              "      box-shadow: 0px 1px 3px 1px rgba(0, 0, 0, 0.15);\n",
              "      filter: drop-shadow(0px 1px 2px rgba(0, 0, 0, 0.3));\n",
              "      fill: #FFFFFF;\n",
              "    }\n",
              "  </style>\n",
              "\n",
              "      <script>\n",
              "        const buttonEl =\n",
              "          document.querySelector('#df-db13edbf-d110-40d0-9ea4-fb53d277424f button.colab-df-convert');\n",
              "        buttonEl.style.display =\n",
              "          google.colab.kernel.accessAllowed ? 'block' : 'none';\n",
              "\n",
              "        async function convertToInteractive(key) {\n",
              "          const element = document.querySelector('#df-db13edbf-d110-40d0-9ea4-fb53d277424f');\n",
              "          const dataTable =\n",
              "            await google.colab.kernel.invokeFunction('convertToInteractive',\n",
              "                                                     [key], {});\n",
              "          if (!dataTable) return;\n",
              "\n",
              "          const docLinkHtml = 'Like what you see? Visit the ' +\n",
              "            '<a target=\"_blank\" href=https://colab.research.google.com/notebooks/data_table.ipynb>data table notebook</a>'\n",
              "            + ' to learn more about interactive tables.';\n",
              "          element.innerHTML = '';\n",
              "          dataTable['output_type'] = 'display_data';\n",
              "          await google.colab.output.renderOutput(dataTable, element);\n",
              "          const docLink = document.createElement('div');\n",
              "          docLink.innerHTML = docLinkHtml;\n",
              "          element.appendChild(docLink);\n",
              "        }\n",
              "      </script>\n",
              "    </div>\n",
              "  </div>\n",
              "  "
            ]
          },
          "metadata": {},
          "execution_count": 4
        }
      ]
    },
    {
      "cell_type": "markdown",
      "source": [
        "# **Distribution of Text Data Tokens**\n",
        "\n",
        "**Distribution of Text Data Tokens** The text data contains text with a minimum number of tokens being 1 token and the maximum being 75 tokens. The median number of tokens is 17, while the average number of tokens is 18 tokens.\n",
        "\n",
        "The statement with length of 1 token is:\n",
        "\"1.\"\n"
      ],
      "metadata": {
        "id": "8MEAbhQoBn1H"
      }
    },
    {
      "cell_type": "code",
      "source": [
        "def dist_text_len(df_rw,output_pth):\n",
        "  \"\"\"\n",
        "    Save the distribution of the text length as a '.png' file \n",
        "    to the output path\n",
        "\n",
        "    @P: \n",
        "      df_rw (dataframe): Dataframe of raw data\n",
        "      output_pth (string): Path to save the '.png' file\n",
        "  \"\"\"\n",
        "  dict_txt_dist={'text_lst':[],'txt_len_lst':[]}\n",
        "  dict_txt_dist['text_lst']=df_rw['Text'].tolist()\n",
        "  \n",
        "  for txt in dict_txt_dist['text_lst']:\n",
        "    txt_lst=txt.split()\n",
        "    dict_txt_dist['txt_len_lst'].append(len(txt_lst))\n",
        "\n",
        "  df=pd.DataFrame.from_dict(dict_txt_dist)\n",
        "  sns.distplot(dict_txt_dist['txt_len_lst'], kde=False, color='blue', bins=10)\n",
        "  plt.savefig(output_pth+'/text_len_dist.png')\n",
        "\n",
        "  return df.describe()\n",
        "\n",
        "def txt_by_len(dataframe,num):\n",
        "  \"\"\"\n",
        "    Print text by length\n",
        "\n",
        "    @P:\n",
        "      dataframe (dataframe): contains the series with text data in the \n",
        "      'Text' column\n",
        "      num (int): Number of tokens in target text\n",
        "  \"\"\"\n",
        "  txt_lst=dataframe['Text'].to_list()\n",
        "  \n",
        "  for txt in txt_lst:\n",
        "    txt_str_lst=txt.split(\" \")\n",
        "\n",
        "    if len(txt_str_lst)==num: print(txt,'\\n')\n"
      ],
      "metadata": {
        "id": "IYgv3rnNBuGc"
      },
      "execution_count": 5,
      "outputs": []
    },
    {
      "cell_type": "code",
      "source": [
        "dist_text_len(df,'/content/drive/MyDrive/PHEE/output')"
      ],
      "metadata": {
        "id": "ibcMcCP5MwLo",
        "colab": {
          "base_uri": "https://localhost:8080/",
          "height": 604
        },
        "outputId": "0595dc60-2eea-4117-d4dd-9e10e7ace03d"
      },
      "execution_count": 6,
      "outputs": [
        {
          "output_type": "stream",
          "name": "stderr",
          "text": [
            "/usr/local/lib/python3.8/dist-packages/seaborn/distributions.py:2619: FutureWarning: `distplot` is a deprecated function and will be removed in a future version. Please adapt your code to use either `displot` (a figure-level function with similar flexibility) or `histplot` (an axes-level function for histograms).\n",
            "  warnings.warn(msg, FutureWarning)\n"
          ]
        },
        {
          "output_type": "execute_result",
          "data": {
            "text/plain": [
              "       txt_len_lst\n",
              "count  4832.000000\n",
              "mean     18.492550\n",
              "std       9.242649\n",
              "min       1.000000\n",
              "25%      12.000000\n",
              "50%      17.000000\n",
              "75%      24.000000\n",
              "max      75.000000"
            ],
            "text/html": [
              "\n",
              "  <div id=\"df-8711afde-9f06-493d-aa7e-abaa3c1ebf9d\">\n",
              "    <div class=\"colab-df-container\">\n",
              "      <div>\n",
              "<style scoped>\n",
              "    .dataframe tbody tr th:only-of-type {\n",
              "        vertical-align: middle;\n",
              "    }\n",
              "\n",
              "    .dataframe tbody tr th {\n",
              "        vertical-align: top;\n",
              "    }\n",
              "\n",
              "    .dataframe thead th {\n",
              "        text-align: right;\n",
              "    }\n",
              "</style>\n",
              "<table border=\"1\" class=\"dataframe\">\n",
              "  <thead>\n",
              "    <tr style=\"text-align: right;\">\n",
              "      <th></th>\n",
              "      <th>txt_len_lst</th>\n",
              "    </tr>\n",
              "  </thead>\n",
              "  <tbody>\n",
              "    <tr>\n",
              "      <th>count</th>\n",
              "      <td>4832.000000</td>\n",
              "    </tr>\n",
              "    <tr>\n",
              "      <th>mean</th>\n",
              "      <td>18.492550</td>\n",
              "    </tr>\n",
              "    <tr>\n",
              "      <th>std</th>\n",
              "      <td>9.242649</td>\n",
              "    </tr>\n",
              "    <tr>\n",
              "      <th>min</th>\n",
              "      <td>1.000000</td>\n",
              "    </tr>\n",
              "    <tr>\n",
              "      <th>25%</th>\n",
              "      <td>12.000000</td>\n",
              "    </tr>\n",
              "    <tr>\n",
              "      <th>50%</th>\n",
              "      <td>17.000000</td>\n",
              "    </tr>\n",
              "    <tr>\n",
              "      <th>75%</th>\n",
              "      <td>24.000000</td>\n",
              "    </tr>\n",
              "    <tr>\n",
              "      <th>max</th>\n",
              "      <td>75.000000</td>\n",
              "    </tr>\n",
              "  </tbody>\n",
              "</table>\n",
              "</div>\n",
              "      <button class=\"colab-df-convert\" onclick=\"convertToInteractive('df-8711afde-9f06-493d-aa7e-abaa3c1ebf9d')\"\n",
              "              title=\"Convert this dataframe to an interactive table.\"\n",
              "              style=\"display:none;\">\n",
              "        \n",
              "  <svg xmlns=\"http://www.w3.org/2000/svg\" height=\"24px\"viewBox=\"0 0 24 24\"\n",
              "       width=\"24px\">\n",
              "    <path d=\"M0 0h24v24H0V0z\" fill=\"none\"/>\n",
              "    <path d=\"M18.56 5.44l.94 2.06.94-2.06 2.06-.94-2.06-.94-.94-2.06-.94 2.06-2.06.94zm-11 1L8.5 8.5l.94-2.06 2.06-.94-2.06-.94L8.5 2.5l-.94 2.06-2.06.94zm10 10l.94 2.06.94-2.06 2.06-.94-2.06-.94-.94-2.06-.94 2.06-2.06.94z\"/><path d=\"M17.41 7.96l-1.37-1.37c-.4-.4-.92-.59-1.43-.59-.52 0-1.04.2-1.43.59L10.3 9.45l-7.72 7.72c-.78.78-.78 2.05 0 2.83L4 21.41c.39.39.9.59 1.41.59.51 0 1.02-.2 1.41-.59l7.78-7.78 2.81-2.81c.8-.78.8-2.07 0-2.86zM5.41 20L4 18.59l7.72-7.72 1.47 1.35L5.41 20z\"/>\n",
              "  </svg>\n",
              "      </button>\n",
              "      \n",
              "  <style>\n",
              "    .colab-df-container {\n",
              "      display:flex;\n",
              "      flex-wrap:wrap;\n",
              "      gap: 12px;\n",
              "    }\n",
              "\n",
              "    .colab-df-convert {\n",
              "      background-color: #E8F0FE;\n",
              "      border: none;\n",
              "      border-radius: 50%;\n",
              "      cursor: pointer;\n",
              "      display: none;\n",
              "      fill: #1967D2;\n",
              "      height: 32px;\n",
              "      padding: 0 0 0 0;\n",
              "      width: 32px;\n",
              "    }\n",
              "\n",
              "    .colab-df-convert:hover {\n",
              "      background-color: #E2EBFA;\n",
              "      box-shadow: 0px 1px 2px rgba(60, 64, 67, 0.3), 0px 1px 3px 1px rgba(60, 64, 67, 0.15);\n",
              "      fill: #174EA6;\n",
              "    }\n",
              "\n",
              "    [theme=dark] .colab-df-convert {\n",
              "      background-color: #3B4455;\n",
              "      fill: #D2E3FC;\n",
              "    }\n",
              "\n",
              "    [theme=dark] .colab-df-convert:hover {\n",
              "      background-color: #434B5C;\n",
              "      box-shadow: 0px 1px 3px 1px rgba(0, 0, 0, 0.15);\n",
              "      filter: drop-shadow(0px 1px 2px rgba(0, 0, 0, 0.3));\n",
              "      fill: #FFFFFF;\n",
              "    }\n",
              "  </style>\n",
              "\n",
              "      <script>\n",
              "        const buttonEl =\n",
              "          document.querySelector('#df-8711afde-9f06-493d-aa7e-abaa3c1ebf9d button.colab-df-convert');\n",
              "        buttonEl.style.display =\n",
              "          google.colab.kernel.accessAllowed ? 'block' : 'none';\n",
              "\n",
              "        async function convertToInteractive(key) {\n",
              "          const element = document.querySelector('#df-8711afde-9f06-493d-aa7e-abaa3c1ebf9d');\n",
              "          const dataTable =\n",
              "            await google.colab.kernel.invokeFunction('convertToInteractive',\n",
              "                                                     [key], {});\n",
              "          if (!dataTable) return;\n",
              "\n",
              "          const docLinkHtml = 'Like what you see? Visit the ' +\n",
              "            '<a target=\"_blank\" href=https://colab.research.google.com/notebooks/data_table.ipynb>data table notebook</a>'\n",
              "            + ' to learn more about interactive tables.';\n",
              "          element.innerHTML = '';\n",
              "          dataTable['output_type'] = 'display_data';\n",
              "          await google.colab.output.renderOutput(dataTable, element);\n",
              "          const docLink = document.createElement('div');\n",
              "          docLink.innerHTML = docLinkHtml;\n",
              "          element.appendChild(docLink);\n",
              "        }\n",
              "      </script>\n",
              "    </div>\n",
              "  </div>\n",
              "  "
            ]
          },
          "metadata": {},
          "execution_count": 6
        },
        {
          "output_type": "display_data",
          "data": {
            "text/plain": [
              "<Figure size 432x288 with 1 Axes>"
            ],
            "image/png": "[encoded data removed]"
          },
          "metadata": {
            "needs_background": "light"
          }
        }
      ]
    },
    {
      "cell_type": "code",
      "source": [
        "txt_by_len(df,1)"
      ],
      "metadata": {
        "colab": {
          "base_uri": "https://localhost:8080/"
        },
        "id": "jElulK1p2iMM",
        "outputId": "70c4d3ca-ca88-4c86-8759-6bcaf12e4d3d"
      },
      "execution_count": 7,
      "outputs": [
        {
          "output_type": "stream",
          "name": "stdout",
          "text": [
            "1.\n",
            " \n",
            "\n"
          ]
        }
      ]
    },
    {
      "cell_type": "markdown",
      "source": [
        "# **Word Cloud of Text Data**\n",
        "\n",
        "The most prevalent adeverse reaction in the text data is 'induced' and the most prevalent subject is 'patient.'"
      ],
      "metadata": {
        "id": "m3uUJcs3SvpL"
      }
    },
    {
      "cell_type": "code",
      "source": [
        "def word_cloud(dataframe,output_path):\n",
        "  \"\"\"\n",
        "    Save a word cloud of text data\n",
        "\n",
        "    @P:\n",
        "    dataframe (dataframe): contains a column with text data in the \n",
        "      'Text' column\n",
        "    output_path (string): Path to save the word cloud file\n",
        "\n",
        "  \"\"\"\n",
        "  txt_clean_lst=[]\n",
        "  txt_lst=dataframe['Text'].to_list()\n",
        "\n",
        "  for f in txt_lst:\n",
        "      f_lst=f.split(\" \")\n",
        "      for w in f_lst:\n",
        "          txt_clean_lst.append(w.lower())\n",
        "\n",
        "  txt_clean_lst_lower_str=\" \".join(txt_clean_lst)\n",
        "\n",
        "  stopwords = set(STOPWORDS)\n",
        "  wordcloud=WordCloud(width = 800, height = 800,background_color ='white',stopwords = stopwords,min_font_size = 10).generate(txt_clean_lst_lower_str)\n",
        "  wordcloud.to_file(output_path)\n",
        "\n",
        "word_cloud(df,'/content/drive/MyDrive/PHEE/output/word_cloud.png')"
      ],
      "metadata": {
        "id": "ZkjK2vryglP5"
      },
      "execution_count": 12,
      "outputs": []
    },
    {
      "cell_type": "markdown",
      "source": [
        "# **Distribution of Drugs in the Dataset**\n",
        "\n",
        "There are 2,312 unique items classified as 'Drugs' in the raw dataset. \n",
        "\n",
        "For this analysis, 'nan' is not considered a drug and items separed by double pipes, '||', are separated to make a more robust representation of the data. "
      ],
      "metadata": {
        "id": "s4I9qV0r6ON0"
      }
    },
    {
      "cell_type": "code",
      "source": [
        "uniq_drug_lst_rw=list(set(df['Drug'].to_list()))\n",
        "\n",
        "temp_lst=[]\n",
        "for s in uniq_drug_lst_rw[0:10]:\n",
        "  if s=='nan': print(s)\n",
        "  s_remv_wt_space=s.strip()\n",
        "  s_lower=s.lower()\n",
        "  temp_lst.append(s_lower)\n",
        "\n",
        "uniq_drug_lst_2=list(set(temp_lst))\n",
        "print(\"There are {} unique items classified as 'Drugs' in the dataset \\n\\n\".format(len(uniq_drug_lst_2)))"
      ],
      "metadata": {
        "colab": {
          "base_uri": "https://localhost:8080/",
          "height": 236
        },
        "id": "Kk7wzpwb5mGB",
        "outputId": "b9a01c0c-d9bd-449a-977b-2800cc074ce5"
      },
      "execution_count": 21,
      "outputs": [
        {
          "output_type": "error",
          "ename": "AttributeError",
          "evalue": "ignored",
          "traceback": [
            "\u001b[0;31m---------------------------------------------------------------------------\u001b[0m",
            "\u001b[0;31mAttributeError\u001b[0m                            Traceback (most recent call last)",
            "\u001b[0;32m<ipython-input-21-129787d1e977>\u001b[0m in \u001b[0;36m<module>\u001b[0;34m\u001b[0m\n\u001b[1;32m      4\u001b[0m \u001b[0;32mfor\u001b[0m \u001b[0ms\u001b[0m \u001b[0;32min\u001b[0m \u001b[0muniq_drug_lst_rw\u001b[0m\u001b[0;34m[\u001b[0m\u001b[0;36m0\u001b[0m\u001b[0;34m:\u001b[0m\u001b[0;36m10\u001b[0m\u001b[0;34m]\u001b[0m\u001b[0;34m:\u001b[0m\u001b[0;34m\u001b[0m\u001b[0;34m\u001b[0m\u001b[0m\n\u001b[1;32m      5\u001b[0m   \u001b[0;32mif\u001b[0m \u001b[0ms\u001b[0m\u001b[0;34m==\u001b[0m\u001b[0;34m'nan'\u001b[0m\u001b[0;34m:\u001b[0m \u001b[0mprint\u001b[0m\u001b[0;34m(\u001b[0m\u001b[0ms\u001b[0m\u001b[0;34m)\u001b[0m\u001b[0;34m\u001b[0m\u001b[0;34m\u001b[0m\u001b[0m\n\u001b[0;32m----> 6\u001b[0;31m   \u001b[0ms_remv_wt_space\u001b[0m\u001b[0;34m=\u001b[0m\u001b[0ms\u001b[0m\u001b[0;34m.\u001b[0m\u001b[0mstrip\u001b[0m\u001b[0;34m(\u001b[0m\u001b[0;34m)\u001b[0m\u001b[0;34m\u001b[0m\u001b[0;34m\u001b[0m\u001b[0m\n\u001b[0m\u001b[1;32m      7\u001b[0m   \u001b[0ms_lower\u001b[0m\u001b[0;34m=\u001b[0m\u001b[0ms\u001b[0m\u001b[0;34m.\u001b[0m\u001b[0mlower\u001b[0m\u001b[0;34m(\u001b[0m\u001b[0;34m)\u001b[0m\u001b[0;34m\u001b[0m\u001b[0;34m\u001b[0m\u001b[0m\n\u001b[1;32m      8\u001b[0m   \u001b[0mtemp_lst\u001b[0m\u001b[0;34m.\u001b[0m\u001b[0mappend\u001b[0m\u001b[0;34m(\u001b[0m\u001b[0ms_lower\u001b[0m\u001b[0;34m)\u001b[0m\u001b[0;34m\u001b[0m\u001b[0;34m\u001b[0m\u001b[0m\n",
            "\u001b[0;31mAttributeError\u001b[0m: 'float' object has no attribute 'strip'"
          ]
        }
      ]
    },
    {
      "cell_type": "code",
      "source": [],
      "metadata": {
        "id": "GKGJM1QNiMYG"
      },
      "execution_count": null,
      "outputs": []
    }
  ]
}
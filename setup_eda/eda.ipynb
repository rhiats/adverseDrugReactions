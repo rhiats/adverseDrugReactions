{
  "nbformat": 4,
  "nbformat_minor": 0,
  "metadata": {
    "colab": {
      "provenance": [],
      "mount_file_id": "1SyBQaS29VkF4f4s6SVoiIBzoFAM3WIR8",
      "authorship_tag": "ABX9TyPDMviQPlMIp2a03TFMTKbO"
    },
    "kernelspec": {
      "name": "python3",
      "display_name": "Python 3"
    },
    "language_info": {
      "name": "python"
    },
    "accelerator": "GPU",
    "gpuClass": "standard"
  },
  "cells": [
    {
      "cell_type": "markdown",
      "source": [
        "# **Exploratory Data Analysis (EDA) of PHEE Data**\n",
        "\n",
        "Four aims during the EDA of the PHEE Data.\n",
        "\n",
        "1. Description of data attributes\n",
        "3. Distribution of Text Length\n",
        "4. Word Cloud of Text to understand most prevalent topics in the raw text\n",
        "5. Standardize the terms in the columns to provide statistics on the patient populations experiencing potentially detrimental effects. Non-standardized terms will be used to extract events. \n",
        "  - Distribution of drugs\n",
        "  - Distribution of patient demographics\n",
        "  - Median time elapsed until a side-effect appeared in a \n",
        "  patient\n",
        "  - Median duration a patient is on a medication\n",
        "  - The route with the most severe side-effects in elderly patients is ...\n",
        "  - The top 4 therapy areas (Treat-Disorder) in the dataset ..."
      ],
      "metadata": {
        "id": "1NM8O8su_RKS"
      }
    },
    {
      "cell_type": "code",
      "source": [
        "import pickle\n",
        "import pandas as pd\n",
        "import numpy as np\n",
        "import matplotlib.pyplot as plt\n",
        "import seaborn as sns"
      ],
      "metadata": {
        "id": "dKetaF00AZgx"
      },
      "execution_count": 14,
      "outputs": []
    },
    {
      "cell_type": "markdown",
      "source": [
        "# **Load Data**"
      ],
      "metadata": {
        "id": "8s3yEQftBZ5X"
      }
    },
    {
      "cell_type": "code",
      "source": [
        "def pkl_load_dict(filename):\n",
        "  \"\"\"\n",
        "    Load the dictionary data from a pickle file into a variable\n",
        "\n",
        "    @P:\n",
        "    filename (str): Name of the pkl file\n",
        "    varname : Name of the df to save the pkl data\n",
        "\n",
        "    @R:\n",
        "    varname : Containing the pkl data\n",
        "  \"\"\"\n",
        "\n",
        "  with open(filename, 'rb') as handle:\n",
        "      df = pickle.load(handle)\n",
        "\n",
        "  return df\n",
        "\n",
        "df=pkl_load_dict('/content/drive/MyDrive/PHEE/output/data_df.pkl')"
      ],
      "metadata": {
        "id": "tKEJhzNAAWIj"
      },
      "execution_count": 51,
      "outputs": []
    },
    {
      "cell_type": "markdown",
      "source": [
        "# **Description and Relationship of Select Medical/Data Terms**\n",
        "\n",
        "**Subject** Patients involved in the medical event\n",
        "\n",
        "Majority of the subjects are unknown (48%). The column should be preprocessed to group similar terms, like 'patient' and 'patients,' which may result in more meaningful data.\n",
        "\n",
        "**Drug** A prescribed medication that causes a physiological effect \n",
        "\n",
        "The distribution of drugs in the dataset are uniform, with a slight majority of records with the drug 'methotrexate.' Unsure whether there is a mix of brand and generic drugs in the column.\n",
        "\n",
        "**Adverse_event** Abbreviated as ADE. Denotes potentially harmful effects of medical therapies.\n",
        "\n",
        "The most adverse event is 'induced.' Further grouping may be needed for the events.\n",
        "\n",
        "**Effect** Indicates the outcome of the treatment.\n",
        "\n",
        "There may be lots of overlap in terms, which may need to be normalized.\n",
        "\n",
        "**Race** Indicates the subject’s race/nationality\n",
        "\n",
        "Supporting the statistic that majority of the subject's are unknown, the majority of the race demographics are also unknown (92%). Standardization may be necessary.\n",
        "\n",
        "**Age** Indicates the subject’s age\n",
        "\n",
        "Supporting the statistic that majority of the subject's are unknown, the majority of the age demographics are also unknown (92%). Standardization of the ages is necessary. For example, '2-year-old child' and 'two' should be considered the same.\n",
        "\n",
        "**Gender** Indicates the subject’s gender\n",
        "\n",
        "Supporting the statistic that majority of the subject's are unknown, the majority of the age demographics are also unknown (82%). Standardization of the gender is necessary. For example, 'woman' and 'girl' should be considered the same.\n",
        "\n",
        "**Text** Sentences extracted from biomedical literature, MEDLINE case reports, annotated with information\n",
        "relevant to pharmacovigilance.\n",
        "\n",
        "\n",
        "> **Ex** Diarrhoea, T-CD4+ lymphopenia and bilateral patchy pulmonary infiltrates developed in a male 60 yrs of age, who was treated with oxaliplatinum and 5-fluorouracil for unresectable rectum carcinoma.\n",
        "\n"
      ],
      "metadata": {
        "id": "x3AX614gBdfe"
      }
    },
    {
      "cell_type": "code",
      "source": [
        "def relative_freq(df,col):\n",
        "  \"\"\"\n",
        "    Relective frequency of a column in a df\n",
        "\n",
        "    @P:\n",
        "      df (dataframe): Dataframe of data\n",
        "      col (str): Name of the column of interest\n",
        "    \n",
        "  \"\"\"\n",
        "  return round(df[col].value_counts(normalize=True)*100,0).to_frame()"
      ],
      "metadata": {
        "id": "rbase4acMW60"
      },
      "execution_count": 15,
      "outputs": []
    },
    {
      "cell_type": "code",
      "source": [
        "print(\"An example sentence extracted from a MEDLINE case report: \\n {} \\n\".format(df['Text'].iloc[5]))\n",
        "relative_freq(df,'Treat-Disorder')"
      ],
      "metadata": {
        "id": "5SOG5pziBhXX"
      },
      "execution_count": null,
      "outputs": []
    },
    {
      "cell_type": "markdown",
      "source": [
        "# **Distribution of Text Data Tokens**\n",
        "\n",
        "**Distribution of Text Data Tokens** The text data contains text with a minimum number of tokens being 1 token and the maximum being 75 tokens. The median number of tokens is 17, while the average number of tokens is 18 tokens."
      ],
      "metadata": {
        "id": "8MEAbhQoBn1H"
      }
    },
    {
      "cell_type": "code",
      "source": [
        "def dist_text_len(df_rw,output_pth):\n",
        "  \"\"\"\n",
        "    Save the distribution of the text length as a '.png' file \n",
        "    to the output path\n",
        "\n",
        "    @P: \n",
        "      df_rw (dataframe): Dataframe of raw data\n",
        "      output_pth (string): Path to save the '.png' file\n",
        "  \"\"\"\n",
        "  dict_txt_dist={'text_lst':[],'txt_len_lst':[]}\n",
        "  dict_txt_dist['text_lst']=df_rw['Text'].tolist()\n",
        "  \n",
        "  for txt in dict_txt_dist['text_lst']:\n",
        "    txt_lst=txt.split()\n",
        "    dict_txt_dist['txt_len_lst'].append(len(txt_lst))\n",
        "\n",
        "  df=pd.DataFrame.from_dict(dict_txt_dist)\n",
        "  sns.distplot(dict_txt_dist['txt_len_lst'], kde=False, color='blue', bins=10)\n",
        "  plt.savefig(output_pth+'/text_len_dist.png')\n",
        "\n",
        "  return df.describe()\n"
      ],
      "metadata": {
        "id": "IYgv3rnNBuGc"
      },
      "execution_count": 49,
      "outputs": []
    },
    {
      "cell_type": "code",
      "source": [
        "dist_text_len(df,'/content/drive/MyDrive/PHEE/output')"
      ],
      "metadata": {
        "id": "ibcMcCP5MwLo"
      },
      "execution_count": null,
      "outputs": []
    },
    {
      "cell_type": "markdown",
      "source": [
        "# **Word Cloud of Text Data**"
      ],
      "metadata": {
        "id": "m3uUJcs3SvpL"
      }
    },
    {
      "cell_type": "code",
      "source": [],
      "metadata": {
        "id": "49cVgwauOTei"
      },
      "execution_count": null,
      "outputs": []
    }
  ]
}